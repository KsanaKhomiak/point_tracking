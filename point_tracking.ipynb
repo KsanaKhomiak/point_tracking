{
 "cells": [
  {
   "cell_type": "code",
   "execution_count": 8,
   "metadata": {},
   "outputs": [],
   "source": [
    "import cv2\n",
    "import numpy as np\n",
    "\n",
    "point_radius = 10\n",
    "\n",
    "cap = cv2.VideoCapture(r'.\\video_data\\point_test.mp4')\n",
    "\n",
    "initial_frame = cap.read()[1]\n",
    "prev_frame_gray = cv2.cvtColor(initial_frame, cv2.COLOR_BGR2GRAY)\n",
    "\n",
    "point_selected = False\n",
    "selected_point = ()\n",
    "prev_points = np.array([[]])\n",
    "\n",
    "lk_params = dict(\n",
    "    winSize = (20,20), maxLevel = 2,\n",
    "    criteria = (cv2.TERM_CRITERIA_EPS | cv2.TERM_CRITERIA_COUNT, 10, 0.03)\n",
    "    )\n",
    "\n",
    "def select_point_on_click(event, x, y, _flags, _params):\n",
    "    global selected_point, point_selected, prev_points\n",
    "\n",
    "    if event != cv2.EVENT_LBUTTONDOWN:\n",
    "        return\n",
    "    \n",
    "    selected_point = (x, y)\n",
    "    point_selected = True\n",
    "    prev_points = np.array([[x, y]], dtype=np.float32)\n",
    "\n",
    "\n",
    "cv2.namedWindow(\"Video\")\n",
    "cv2.setMouseCallback(\"Video\", select_point_on_click)\n",
    "\n",
    "while True:\n",
    "    curr_frame = cap.read()[1]\n",
    "    curr_frame_gray = cv2.cvtColor(curr_frame, cv2.COLOR_BGR2GRAY)\n",
    "\n",
    "    if point_selected:\n",
    "        cv2.circle(curr_frame, selected_point, point_radius, (0,0,255), 2)\n",
    "        new_points = cv2.calcOpticalFlowPyrLK(\n",
    "            prev_frame_gray, curr_frame_gray, prev_points, None, **lk_params\n",
    "            )[0]\n",
    "        x, y = new_points.ravel()\n",
    "        cv2.circle(curr_frame, (int(x),int(y)), point_radius, (0,255,0), -1)\n",
    "\n",
    "        prev_frame_gray = curr_frame_gray.copy()\n",
    "        prev_points = new_points\n",
    "\n",
    "    cv2.imshow('Video', curr_frame)\n",
    "    key = cv2.waitKey(100) #default framerate 20, usable playback is 100\n",
    "    if key == 27:\n",
    "        break\n",
    "\n",
    "cap.release()\n",
    "cv2.destroyAllWindows()"
   ]
  }
 ],
 "metadata": {
  "interpreter": {
   "hash": "9ea5627881d6f3306c1753ebdc3283029610ea96e43ea3cb4d7da165db058b1d"
  },
  "kernelspec": {
   "display_name": "Python 3.7.1 ('base')",
   "language": "python",
   "name": "python3"
  },
  "language_info": {
   "codemirror_mode": {
    "name": "ipython",
    "version": 3
   },
   "file_extension": ".py",
   "mimetype": "text/x-python",
   "name": "python",
   "nbconvert_exporter": "python",
   "pygments_lexer": "ipython3",
   "version": "3.7.1"
  },
  "orig_nbformat": 4
 },
 "nbformat": 4,
 "nbformat_minor": 2
}
